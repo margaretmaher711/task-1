{
 "cells": [
  {
   "cell_type": "code",
   "execution_count": 1,
   "id": "5df8c439",
   "metadata": {},
   "outputs": [
    {
     "ename": "ModuleNotFoundError",
     "evalue": "No module named 'cobra'",
     "output_type": "error",
     "traceback": [
      "\u001b[1;31m---------------------------------------------------------------------------\u001b[0m",
      "\u001b[1;31mModuleNotFoundError\u001b[0m                       Traceback (most recent call last)",
      "\u001b[1;32m<ipython-input-1-e8543d93f282>\u001b[0m in \u001b[0;36m<module>\u001b[1;34m\u001b[0m\n\u001b[1;32m----> 1\u001b[1;33m \u001b[1;32mimport\u001b[0m \u001b[0mcobra\u001b[0m\u001b[1;33m\u001b[0m\u001b[1;33m\u001b[0m\u001b[0m\n\u001b[0m",
      "\u001b[1;31mModuleNotFoundError\u001b[0m: No module named 'cobra'"
     ]
    }
   ],
   "source": [
    "import cobra"
   ]
  },
  {
   "cell_type": "code",
   "execution_count": 2,
   "id": "1c0596ea",
   "metadata": {},
   "outputs": [
    {
     "name": "stdout",
     "output_type": "stream",
     "text": [
      "Collecting cobra\n",
      "  Downloading cobra-0.24.0-py2.py3-none-any.whl (2.6 MB)\n",
      "Requirement already satisfied: appdirs~=1.4 in c:\\programdata\\anaconda3\\lib\\site-packages (from cobra) (1.4.4)\n",
      "Collecting depinfo~=1.7\n",
      "  Downloading depinfo-1.7.0-py2.py3-none-any.whl (8.6 kB)\n",
      "Collecting httpx~=0.14\n",
      "  Downloading httpx-0.22.0-py3-none-any.whl (84 kB)\n",
      "Collecting optlang~=1.5\n",
      "  Downloading optlang-1.5.2-py2.py3-none-any.whl (147 kB)\n",
      "Collecting pydantic~=1.6\n",
      "  Downloading pydantic-1.9.0-cp38-cp38-win_amd64.whl (2.1 MB)\n",
      "Requirement already satisfied: numpy~=1.13 in c:\\programdata\\anaconda3\\lib\\site-packages (from cobra) (1.20.1)\n",
      "Collecting importlib-resources\n",
      "  Downloading importlib_resources-5.4.0-py3-none-any.whl (28 kB)\n",
      "Requirement already satisfied: pandas~=1.0 in c:\\programdata\\anaconda3\\lib\\site-packages (from cobra) (1.2.4)\n",
      "Collecting diskcache~=5.0\n",
      "  Downloading diskcache-5.4.0-py3-none-any.whl (44 kB)\n",
      "Collecting ruamel.yaml~=0.16\n",
      "  Downloading ruamel.yaml-0.17.21-py3-none-any.whl (109 kB)\n",
      "Collecting rich>=8.0\n",
      "  Downloading rich-12.0.0-py3-none-any.whl (224 kB)\n",
      "Collecting python-libsbml==5.19.2\n",
      "  Downloading python_libsbml-5.19.2-cp38-cp38-win_amd64.whl (4.9 MB)\n",
      "Requirement already satisfied: future in c:\\programdata\\anaconda3\\lib\\site-packages (from cobra) (0.18.2)\n",
      "Collecting swiglpk\n",
      "  Downloading swiglpk-5.0.4-cp38-cp38-win_amd64.whl (567 kB)\n",
      "Collecting charset-normalizer\n",
      "  Downloading charset_normalizer-2.0.12-py3-none-any.whl (39 kB)\n",
      "Collecting rfc3986[idna2008]<2,>=1.3\n",
      "  Downloading rfc3986-1.5.0-py2.py3-none-any.whl (31 kB)\n",
      "Requirement already satisfied: certifi in c:\\programdata\\anaconda3\\lib\\site-packages (from httpx~=0.14->cobra) (2020.12.5)\n",
      "Requirement already satisfied: sniffio in c:\\programdata\\anaconda3\\lib\\site-packages (from httpx~=0.14->cobra) (1.2.0)\n",
      "Collecting httpcore<0.15.0,>=0.14.5\n",
      "  Downloading httpcore-0.14.7-py3-none-any.whl (68 kB)\n",
      "Collecting anyio==3.*\n",
      "  Downloading anyio-3.5.0-py3-none-any.whl (79 kB)\n",
      "Collecting h11<0.13,>=0.11\n",
      "  Downloading h11-0.12.0-py3-none-any.whl (54 kB)\n",
      "Requirement already satisfied: idna>=2.8 in c:\\programdata\\anaconda3\\lib\\site-packages (from anyio==3.*->httpcore<0.15.0,>=0.14.5->httpx~=0.14->cobra) (2.10)\n",
      "Requirement already satisfied: six>=1.9 in c:\\programdata\\anaconda3\\lib\\site-packages (from optlang~=1.5->cobra) (1.15.0)\n",
      "Requirement already satisfied: sympy>=1.0 in c:\\programdata\\anaconda3\\lib\\site-packages (from optlang~=1.5->cobra) (1.8)\n",
      "Requirement already satisfied: python-dateutil>=2.7.3 in c:\\programdata\\anaconda3\\lib\\site-packages (from pandas~=1.0->cobra) (2.8.1)\n",
      "Requirement already satisfied: pytz>=2017.3 in c:\\programdata\\anaconda3\\lib\\site-packages (from pandas~=1.0->cobra) (2021.1)\n",
      "Requirement already satisfied: typing-extensions>=3.7.4.3 in c:\\programdata\\anaconda3\\lib\\site-packages (from pydantic~=1.6->cobra) (3.7.4.3)\n",
      "Collecting commonmark<0.10.0,>=0.9.0\n",
      "  Downloading commonmark-0.9.1-py2.py3-none-any.whl (51 kB)\n",
      "Requirement already satisfied: pygments<3.0.0,>=2.6.0 in c:\\programdata\\anaconda3\\lib\\site-packages (from rich>=8.0->cobra) (2.8.1)\n",
      "Collecting ruamel.yaml.clib>=0.2.6\n",
      "  Downloading ruamel.yaml.clib-0.2.6-cp38-cp38-win_amd64.whl (117 kB)\n",
      "Requirement already satisfied: mpmath>=0.19 in c:\\programdata\\anaconda3\\lib\\site-packages (from sympy>=1.0->optlang~=1.5->cobra) (1.2.1)\n",
      "Requirement already satisfied: zipp>=3.1.0 in c:\\programdata\\anaconda3\\lib\\site-packages (from importlib-resources->cobra) (3.4.1)\n",
      "Installing collected packages: rfc3986, h11, anyio, swiglpk, ruamel.yaml.clib, httpcore, commonmark, charset-normalizer, ruamel.yaml, rich, python-libsbml, pydantic, optlang, importlib-resources, httpx, diskcache, depinfo, cobra\n",
      "  Attempting uninstall: anyio\n",
      "    Found existing installation: anyio 2.2.0\n",
      "    Uninstalling anyio-2.2.0:\n",
      "      Successfully uninstalled anyio-2.2.0\n",
      "Successfully installed anyio-3.5.0 charset-normalizer-2.0.12 cobra-0.24.0 commonmark-0.9.1 depinfo-1.7.0 diskcache-5.4.0 h11-0.12.0 httpcore-0.14.7 httpx-0.22.0 importlib-resources-5.4.0 optlang-1.5.2 pydantic-1.9.0 python-libsbml-5.19.2 rfc3986-1.5.0 rich-12.0.0 ruamel.yaml-0.17.21 ruamel.yaml.clib-0.2.6 swiglpk-5.0.4\n"
     ]
    }
   ],
   "source": [
    "!pip install cobra"
   ]
  },
  {
   "cell_type": "code",
   "execution_count": 3,
   "id": "8413719b",
   "metadata": {},
   "outputs": [],
   "source": [
    "import cobra"
   ]
  },
  {
   "cell_type": "code",
   "execution_count": 4,
   "id": "e80a2cca",
   "metadata": {},
   "outputs": [],
   "source": [
    "from cobra import Model,Reaction,Metabolite"
   ]
  },
  {
   "cell_type": "code",
   "execution_count": 5,
   "id": "45334a2f",
   "metadata": {},
   "outputs": [],
   "source": [
    "model = Model('example')"
   ]
  },
  {
   "cell_type": "code",
   "execution_count": 12,
   "id": "4880e087",
   "metadata": {},
   "outputs": [],
   "source": [
    "A = Metabolite('A', compartment='c')\n",
    "B = Metabolite('B', compartment='c')\n",
    "C = Metabolite('C', compartment='c')\n",
    "\n",
    "ATP = Metabolite('ATP' , compartment = 'c')"
   ]
  },
  {
   "cell_type": "code",
   "execution_count": 13,
   "id": "976b272e",
   "metadata": {},
   "outputs": [],
   "source": [
    "## R0 = -----> A\n",
    "\n",
    "R0 = Reaction('R0')\n",
    "R0.name = 'R0'\n",
    "R0.lower_bound = 1\n",
    "R0.upper_bound = 1"
   ]
  },
  {
   "cell_type": "code",
   "execution_count": 23,
   "id": "56a36334",
   "metadata": {},
   "outputs": [],
   "source": [
    "###### ----> A\n",
    "R0.add_metabolites({A:1})"
   ]
  },
  {
   "cell_type": "code",
   "execution_count": 8,
   "id": "810c9b26",
   "metadata": {},
   "outputs": [],
   "source": [
    "## R1 =  A ----> B\n",
    "\n",
    "R1 = Reaction('R1')\n",
    "R1.name ='R1'\n",
    "R1.lower_bound =0\n",
    "R1.upper_bound =1000"
   ]
  },
  {
   "cell_type": "code",
   "execution_count": 22,
   "id": "d74459ce",
   "metadata": {},
   "outputs": [],
   "source": [
    "#### A ---> B\n",
    "R1.add_metabolites({A:-1 , B:1})"
   ]
  },
  {
   "cell_type": "code",
   "execution_count": 7,
   "id": "be68f726",
   "metadata": {},
   "outputs": [],
   "source": [
    "## R2 =  B ----> C\n",
    "\n",
    "R2 = Reaction('R2')\n",
    "R2.name= 'R2'\n",
    "R2.lower_bound=0\n",
    "R2.upper_bound =1000"
   ]
  },
  {
   "cell_type": "code",
   "execution_count": 24,
   "id": "1e316ddb",
   "metadata": {},
   "outputs": [],
   "source": [
    "### B ---> c\n",
    "R2.add_metabolites({B:-1 , C:1})"
   ]
  },
  {
   "cell_type": "code",
   "execution_count": 15,
   "id": "16067535",
   "metadata": {},
   "outputs": [],
   "source": [
    "### Cout = c ---->\n",
    "\n",
    "Cout = Reaction('Cout')\n",
    "Cout.name= 'Cout'\n",
    "Cout.upper_bound =1000"
   ]
  },
  {
   "cell_type": "code",
   "execution_count": 26,
   "id": "6a35e041",
   "metadata": {},
   "outputs": [],
   "source": [
    "#### c --->\n",
    "Cout.add_metabolites({C:-1})"
   ]
  },
  {
   "cell_type": "code",
   "execution_count": 17,
   "id": "3e9b9b1f",
   "metadata": {},
   "outputs": [],
   "source": [
    "### A ----> ATP\n",
    "\n",
    "AATP = Reaction('AATP')\n",
    "AATP.name = 'AATP'\n",
    "AATP.lower_bound = 0\n",
    "AATP.upper_bound =1000"
   ]
  },
  {
   "cell_type": "code",
   "execution_count": 27,
   "id": "87dbb4d7",
   "metadata": {},
   "outputs": [],
   "source": [
    "### A ----> ATP\n",
    "\n",
    "AATP.add_metabolites({A:-1 , ATP:1})"
   ]
  },
  {
   "cell_type": "code",
   "execution_count": 16,
   "id": "8eb17b4c",
   "metadata": {},
   "outputs": [],
   "source": [
    "## ATPout = ATP ----> \n",
    "\n",
    "ATPout =Reaction('ATPout')\n",
    "ATPout.name = 'ATPout'\n",
    "ATPout.lower_bound = 0.9\n",
    "ATPout.upper_bound = 0.9"
   ]
  },
  {
   "cell_type": "code",
   "execution_count": 28,
   "id": "2c5f58ef",
   "metadata": {},
   "outputs": [],
   "source": [
    "## ATPout = ATP ----> \n",
    "\n",
    "ATPout.add_metabolites({ATP:-1})\n"
   ]
  },
  {
   "cell_type": "code",
   "execution_count": 29,
   "id": "d98d3986",
   "metadata": {},
   "outputs": [],
   "source": [
    "### to add reactions in model\n",
    "\n",
    "model.add_reactions([R0,R1,R2,Cout,AATP,ATPout])\n"
   ]
  },
  {
   "cell_type": "code",
   "execution_count": 30,
   "id": "f1133b2f",
   "metadata": {},
   "outputs": [],
   "source": [
    "model.objective ='Cout'"
   ]
  },
  {
   "cell_type": "code",
   "execution_count": 31,
   "id": "8629d98c",
   "metadata": {},
   "outputs": [
    {
     "data": {
      "text/html": [
       "<strong><em>Optimal</em> solution with objective value 0.100</strong><br><div>\n",
       "<style scoped>\n",
       "    .dataframe tbody tr th:only-of-type {\n",
       "        vertical-align: middle;\n",
       "    }\n",
       "\n",
       "    .dataframe tbody tr th {\n",
       "        vertical-align: top;\n",
       "    }\n",
       "\n",
       "    .dataframe thead th {\n",
       "        text-align: right;\n",
       "    }\n",
       "</style>\n",
       "<table border=\"1\" class=\"dataframe\">\n",
       "  <thead>\n",
       "    <tr style=\"text-align: right;\">\n",
       "      <th></th>\n",
       "      <th>fluxes</th>\n",
       "      <th>reduced_costs</th>\n",
       "    </tr>\n",
       "  </thead>\n",
       "  <tbody>\n",
       "    <tr>\n",
       "      <th>R0</th>\n",
       "      <td>1.0</td>\n",
       "      <td>2.0</td>\n",
       "    </tr>\n",
       "    <tr>\n",
       "      <th>R1</th>\n",
       "      <td>0.1</td>\n",
       "      <td>0.0</td>\n",
       "    </tr>\n",
       "    <tr>\n",
       "      <th>R2</th>\n",
       "      <td>0.1</td>\n",
       "      <td>0.0</td>\n",
       "    </tr>\n",
       "    <tr>\n",
       "      <th>Cout</th>\n",
       "      <td>0.1</td>\n",
       "      <td>0.0</td>\n",
       "    </tr>\n",
       "    <tr>\n",
       "      <th>AATP</th>\n",
       "      <td>0.9</td>\n",
       "      <td>0.0</td>\n",
       "    </tr>\n",
       "    <tr>\n",
       "      <th>ATPout</th>\n",
       "      <td>0.9</td>\n",
       "      <td>-2.0</td>\n",
       "    </tr>\n",
       "  </tbody>\n",
       "</table>\n",
       "</div>"
      ],
      "text/plain": [
       "<Solution 0.100 at 0x19a62a9a4f0>"
      ]
     },
     "execution_count": 31,
     "metadata": {},
     "output_type": "execute_result"
    }
   ],
   "source": [
    "model.optimize()\n"
   ]
  },
  {
   "cell_type": "code",
   "execution_count": 32,
   "id": "fc847e48",
   "metadata": {},
   "outputs": [
    {
     "data": {
      "text/html": [
       "<h3>Objective</h3><p>1.0 Cout = 0.09999999999999998</p><h4>Uptake</h4><table border=\"1\" class=\"dataframe\">\n",
       "  <thead>\n",
       "    <tr style=\"text-align: right;\">\n",
       "      <th>Metabolite</th>\n",
       "      <th>Reaction</th>\n",
       "      <th>Flux</th>\n",
       "      <th>C-Number</th>\n",
       "      <th>C-Flux</th>\n",
       "    </tr>\n",
       "  </thead>\n",
       "  <tbody>\n",
       "    <tr>\n",
       "      <td>A</td>\n",
       "      <td>R0</td>\n",
       "      <td>1</td>\n",
       "      <td>0</td>\n",
       "      <td>0.00%</td>\n",
       "    </tr>\n",
       "  </tbody>\n",
       "</table><h4>Secretion</h4><table border=\"1\" class=\"dataframe\">\n",
       "  <thead>\n",
       "    <tr style=\"text-align: right;\">\n",
       "      <th>Metabolite</th>\n",
       "      <th>Reaction</th>\n",
       "      <th>Flux</th>\n",
       "      <th>C-Number</th>\n",
       "      <th>C-Flux</th>\n",
       "    </tr>\n",
       "  </thead>\n",
       "  <tbody>\n",
       "    <tr>\n",
       "      <td>ATP</td>\n",
       "      <td>ATPout</td>\n",
       "      <td>-0.9</td>\n",
       "      <td>0</td>\n",
       "      <td>0.00%</td>\n",
       "    </tr>\n",
       "    <tr>\n",
       "      <td>C</td>\n",
       "      <td>Cout</td>\n",
       "      <td>-0.1</td>\n",
       "      <td>0</td>\n",
       "      <td>0.00%</td>\n",
       "    </tr>\n",
       "  </tbody>\n",
       "</table>"
      ],
      "text/plain": [
       "<cobra.summary.model_summary.ModelSummary at 0x19a62a9aa90>"
      ]
     },
     "execution_count": 32,
     "metadata": {},
     "output_type": "execute_result"
    }
   ],
   "source": [
    "model.summary()\n"
   ]
  },
  {
   "cell_type": "code",
   "execution_count": null,
   "id": "ff281b8d",
   "metadata": {},
   "outputs": [],
   "source": []
  }
 ],
 "metadata": {
  "kernelspec": {
   "display_name": "Python 3",
   "language": "python",
   "name": "python3"
  },
  "language_info": {
   "codemirror_mode": {
    "name": "ipython",
    "version": 3
   },
   "file_extension": ".py",
   "mimetype": "text/x-python",
   "name": "python",
   "nbconvert_exporter": "python",
   "pygments_lexer": "ipython3",
   "version": "3.8.8"
  }
 },
 "nbformat": 4,
 "nbformat_minor": 5
}
