{
 "cells": [
  {
   "cell_type": "code",
   "execution_count": 1,
   "id": "bc063f38",
   "metadata": {},
   "outputs": [],
   "source": [
    "import cobra"
   ]
  },
  {
   "cell_type": "code",
   "execution_count": 2,
   "id": "f8b2db3f",
   "metadata": {},
   "outputs": [],
   "source": [
    "model =cobra.Model('firstModel')"
   ]
  },
  {
   "cell_type": "code",
   "execution_count": 3,
   "id": "a5529ba9",
   "metadata": {},
   "outputs": [],
   "source": [
    "V0 =cobra.Reaction('V0')\n",
    "V0.name='V0'\n",
    "V0.upper_bound =1\n",
    "V0.lower_bound =1"
   ]
  },
  {
   "cell_type": "code",
   "execution_count": 4,
   "id": "b6039862",
   "metadata": {},
   "outputs": [],
   "source": [
    "V1 =cobra.Reaction('V1')\n",
    "V1.name='V1'\n",
    "V1.lower_bound =0\n",
    "V1.upper_bound =1000"
   ]
  },
  {
   "cell_type": "code",
   "execution_count": 5,
   "id": "152eb7ac",
   "metadata": {},
   "outputs": [],
   "source": [
    "V2 =cobra.Reaction('V2')\n",
    "V2.name='V2'\n",
    "V2.lower_bound =0\n",
    "V2.upper_bound =1000"
   ]
  },
  {
   "cell_type": "code",
   "execution_count": 6,
   "id": "91cc43a6",
   "metadata": {},
   "outputs": [],
   "source": [
    "M =cobra.Reaction('M')\n",
    "M.name='M'\n",
    "M.lower_bound =0\n",
    "M.upper_bound =1000"
   ]
  },
  {
   "cell_type": "code",
   "execution_count": 7,
   "id": "414e920e",
   "metadata": {},
   "outputs": [],
   "source": [
    "model.add_reactions([V0,V1,V2,M])"
   ]
  },
  {
   "cell_type": "code",
   "execution_count": 8,
   "id": "cc3ae5f8",
   "metadata": {},
   "outputs": [],
   "source": [
    "glc=cobra.Metabolite('glc',compartment='c')\n",
    "AA= cobra.Metabolite('AA',compartment='c')\n",
    "Biomass=cobra.Metabolite('Biomass',compartment='c')"
   ]
  },
  {
   "cell_type": "code",
   "execution_count": 9,
   "id": "4b03022d",
   "metadata": {},
   "outputs": [],
   "source": [
    "V0.add_metabolites({glc:1})\n",
    "V1.add_metabolites({glc:-1,AA:1})"
   ]
  },
  {
   "cell_type": "code",
   "execution_count": 10,
   "id": "e120a9cd",
   "metadata": {},
   "outputs": [],
   "source": [
    "V2.add_metabolites({AA:-9.09,Biomass:1})"
   ]
  },
  {
   "cell_type": "code",
   "execution_count": 11,
   "id": "e8108025",
   "metadata": {},
   "outputs": [],
   "source": [
    "M.add_metabolites({Biomass:-1})"
   ]
  },
  {
   "cell_type": "code",
   "execution_count": 12,
   "id": "e9e01555",
   "metadata": {},
   "outputs": [],
   "source": [
    "model.objective='M'"
   ]
  },
  {
   "cell_type": "code",
   "execution_count": 13,
   "id": "263ee1f4",
   "metadata": {},
   "outputs": [
    {
     "data": {
      "text/html": [
       "<strong><em>Optimal</em> solution with objective value 0.110</strong><br><div>\n",
       "<style scoped>\n",
       "    .dataframe tbody tr th:only-of-type {\n",
       "        vertical-align: middle;\n",
       "    }\n",
       "\n",
       "    .dataframe tbody tr th {\n",
       "        vertical-align: top;\n",
       "    }\n",
       "\n",
       "    .dataframe thead th {\n",
       "        text-align: right;\n",
       "    }\n",
       "</style>\n",
       "<table border=\"1\" class=\"dataframe\">\n",
       "  <thead>\n",
       "    <tr style=\"text-align: right;\">\n",
       "      <th></th>\n",
       "      <th>fluxes</th>\n",
       "      <th>reduced_costs</th>\n",
       "    </tr>\n",
       "  </thead>\n",
       "  <tbody>\n",
       "    <tr>\n",
       "      <th>V0</th>\n",
       "      <td>1.000000</td>\n",
       "      <td>0.220022</td>\n",
       "    </tr>\n",
       "    <tr>\n",
       "      <th>V1</th>\n",
       "      <td>1.000000</td>\n",
       "      <td>0.000000</td>\n",
       "    </tr>\n",
       "    <tr>\n",
       "      <th>V2</th>\n",
       "      <td>0.110011</td>\n",
       "      <td>0.000000</td>\n",
       "    </tr>\n",
       "    <tr>\n",
       "      <th>M</th>\n",
       "      <td>0.110011</td>\n",
       "      <td>0.000000</td>\n",
       "    </tr>\n",
       "  </tbody>\n",
       "</table>\n",
       "</div>"
      ],
      "text/plain": [
       "<Solution 0.110 at 0x173676d6220>"
      ]
     },
     "execution_count": 13,
     "metadata": {},
     "output_type": "execute_result"
    }
   ],
   "source": [
    "model.optimize()"
   ]
  },
  {
   "cell_type": "code",
   "execution_count": 14,
   "id": "73cefe2e",
   "metadata": {},
   "outputs": [
    {
     "data": {
      "text/html": [
       "<h3>Objective</h3><p>1.0 M = 0.11001100110011001</p><h4>Uptake</h4><table border=\"1\" class=\"dataframe\">\n",
       "  <thead>\n",
       "    <tr style=\"text-align: right;\">\n",
       "      <th>Metabolite</th>\n",
       "      <th>Reaction</th>\n",
       "      <th>Flux</th>\n",
       "      <th>C-Number</th>\n",
       "      <th>C-Flux</th>\n",
       "    </tr>\n",
       "  </thead>\n",
       "  <tbody>\n",
       "    <tr>\n",
       "      <td>glc</td>\n",
       "      <td>V0</td>\n",
       "      <td>1</td>\n",
       "      <td>0</td>\n",
       "      <td>0.00%</td>\n",
       "    </tr>\n",
       "  </tbody>\n",
       "</table><h4>Secretion</h4><table border=\"1\" class=\"dataframe\">\n",
       "  <thead>\n",
       "    <tr style=\"text-align: right;\">\n",
       "      <th>Metabolite</th>\n",
       "      <th>Reaction</th>\n",
       "      <th>Flux</th>\n",
       "      <th>C-Number</th>\n",
       "      <th>C-Flux</th>\n",
       "    </tr>\n",
       "  </thead>\n",
       "  <tbody>\n",
       "    <tr>\n",
       "      <td>Biomass</td>\n",
       "      <td>M</td>\n",
       "      <td>-0.11</td>\n",
       "      <td>0</td>\n",
       "      <td>0.00%</td>\n",
       "    </tr>\n",
       "  </tbody>\n",
       "</table>"
      ],
      "text/plain": [
       "<cobra.summary.model_summary.ModelSummary at 0x173677012b0>"
      ]
     },
     "execution_count": 14,
     "metadata": {},
     "output_type": "execute_result"
    }
   ],
   "source": [
    "model.summary()"
   ]
  },
  {
   "cell_type": "code",
   "execution_count": 15,
   "id": "0d58a5cb",
   "metadata": {},
   "outputs": [],
   "source": [
    "cobra.io.save_json_model(model,'task2.json')"
   ]
  },
  {
   "cell_type": "code",
   "execution_count": 16,
   "id": "3f90f306",
   "metadata": {},
   "outputs": [],
   "source": [
    "#!pip install escher"
   ]
  },
  {
   "cell_type": "code",
   "execution_count": 17,
   "id": "a6a5de42",
   "metadata": {},
   "outputs": [],
   "source": [
    "import escher"
   ]
  },
  {
   "cell_type": "code",
   "execution_count": 18,
   "id": "f157df0d",
   "metadata": {},
   "outputs": [],
   "source": [
    "from escher import Builder"
   ]
  },
  {
   "cell_type": "code",
   "execution_count": 19,
   "id": "74df9de1",
   "metadata": {},
   "outputs": [],
   "source": [
    "builder =Builder()"
   ]
  },
  {
   "cell_type": "code",
   "execution_count": 21,
   "id": "7158eb8f",
   "metadata": {},
   "outputs": [
    {
     "data": {
      "application/vnd.jupyter.widget-view+json": {
       "model_id": "08fc8ba91c6c4ca4a4f3e1618f09fb76",
       "version_major": 2,
       "version_minor": 0
      },
      "text/plain": [
       "Builder(allow_building_duplicate_reactions=False, and_method_in_gene_reaction_rule='mean', cofactors=['atp', '…"
      ]
     },
     "metadata": {},
     "output_type": "display_data"
    }
   ],
   "source": [
    "builder"
   ]
  },
  {
   "cell_type": "code",
   "execution_count": null,
   "id": "790552a1",
   "metadata": {},
   "outputs": [],
   "source": []
  },
  {
   "cell_type": "code",
   "execution_count": null,
   "id": "f71ab3fe",
   "metadata": {},
   "outputs": [],
   "source": []
  }
 ],
 "metadata": {
  "kernelspec": {
   "display_name": "Python 3",
   "language": "python",
   "name": "python3"
  },
  "language_info": {
   "codemirror_mode": {
    "name": "ipython",
    "version": 3
   },
   "file_extension": ".py",
   "mimetype": "text/x-python",
   "name": "python",
   "nbconvert_exporter": "python",
   "pygments_lexer": "ipython3",
   "version": "3.8.8"
  }
 },
 "nbformat": 4,
 "nbformat_minor": 5
}
